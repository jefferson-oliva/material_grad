{
 "cells": [
  {
   "cell_type": "markdown",
   "id": "25681914",
   "metadata": {},
   "source": [
    "## Exercícios \n",
    "\n",
    "Selecione duas imagens coloridas e as nomeie como: “img1” e “img2”.\n",
    "\n",
    "Considere a escolha de img1 com imagem de paisagem\n",
    "Considere a escolha de img2 com imagem que contenha pessoa(s)\n",
    "\n",
    "Aplique os algoritmos implementados nesta atividade nas imagens selecionadas em níveis de cinza (apenas uma camada).\n",
    "\n",
    "*Podem se basear no exemplo de função image_convolution ou cv2.filter2D"
   ]
  },
  {
   "cell_type": "markdown",
   "id": "be521368",
   "metadata": {},
   "source": [
    "1) Implemente o filtro de suavização pela média da vizinhança"
   ]
  },
  {
   "cell_type": "code",
   "execution_count": null,
   "id": "da1cc6ab",
   "metadata": {},
   "outputs": [],
   "source": []
  },
  {
   "cell_type": "markdown",
   "id": "89c00760",
   "metadata": {},
   "source": [
    "2) Implemente o filtro da mediana"
   ]
  },
  {
   "cell_type": "code",
   "execution_count": null,
   "id": "9241c1f9",
   "metadata": {},
   "outputs": [],
   "source": []
  },
  {
   "cell_type": "markdown",
   "id": "c659b832",
   "metadata": {},
   "source": [
    "3) Implemente o operador Laplaciano"
   ]
  },
  {
   "cell_type": "code",
   "execution_count": null,
   "id": "fae1ccf9",
   "metadata": {},
   "outputs": [],
   "source": []
  },
  {
   "cell_type": "markdown",
   "id": "adc09ff7",
   "metadata": {},
   "source": [
    "4) Implemente o detector de bordas de Roberts"
   ]
  },
  {
   "cell_type": "code",
   "execution_count": null,
   "id": "67393347",
   "metadata": {},
   "outputs": [],
   "source": []
  },
  {
   "cell_type": "markdown",
   "id": "efd1827c",
   "metadata": {},
   "source": [
    "5) Implemente o detector de bordas de Prewitt"
   ]
  },
  {
   "cell_type": "code",
   "execution_count": null,
   "id": "8c8dad9d",
   "metadata": {},
   "outputs": [],
   "source": []
  },
  {
   "cell_type": "markdown",
   "id": "28c3e6ab-813b-4c81-8e6a-6d2186a28217",
   "metadata": {},
   "source": [
    "6) Aplique os algoritmos implementados de 1) a 5) nas imagens escolhidas. Em seguida, plote as imagens originais e os resultados da filtragem"
   ]
  },
  {
   "cell_type": "code",
   "execution_count": null,
   "id": "3c29e44f-5dc7-4fe2-a5cf-ee9a79755fb6",
   "metadata": {},
   "outputs": [],
   "source": []
  },
  {
   "cell_type": "markdown",
   "id": "bb4f850e",
   "metadata": {},
   "source": [
    "Aplique os algoritmos solicitados abaixo. Selecione as imagens necessárias conforme a requisição dos próximos exercícios.\n",
    "\n",
    "* Não há regras para essas imagens, podem ser de qualquer coisa, coloridas ou escala de cinza. "
   ]
  },
  {
   "cell_type": "markdown",
   "id": "6bc3e167",
   "metadata": {},
   "source": [
    "9) Escolha duas imagens, realize a adição destas. "
   ]
  },
  {
   "cell_type": "code",
   "execution_count": null,
   "id": "df873748",
   "metadata": {},
   "outputs": [],
   "source": []
  },
  {
   "cell_type": "markdown",
   "id": "b045651b",
   "metadata": {},
   "source": [
    "10) Escolha duas imagens, realize a subtração destas. O ideal é para representar a remoção de fundo."
   ]
  },
  {
   "cell_type": "code",
   "execution_count": null,
   "id": "f47e2e07",
   "metadata": {},
   "outputs": [],
   "source": []
  },
  {
   "cell_type": "markdown",
   "id": "6ae95030-c2aa-46bc-8dfa-2642ed071876",
   "metadata": {},
   "source": [
    "11) Exiba os resultados dados operações realizadas em 9) e 10)"
   ]
  },
  {
   "cell_type": "code",
   "execution_count": null,
   "id": "0ca1fb13-7ef4-4d3c-a028-02a3d717aed1",
   "metadata": {},
   "outputs": [],
   "source": []
  }
 ],
 "metadata": {
  "kernelspec": {
   "display_name": "Python 3 (ipykernel)",
   "language": "python",
   "name": "python3"
  },
  "language_info": {
   "codemirror_mode": {
    "name": "ipython",
    "version": 3
   },
   "file_extension": ".py",
   "mimetype": "text/x-python",
   "name": "python",
   "nbconvert_exporter": "python",
   "pygments_lexer": "ipython3",
   "version": "3.11.7"
  }
 },
 "nbformat": 4,
 "nbformat_minor": 5
}
