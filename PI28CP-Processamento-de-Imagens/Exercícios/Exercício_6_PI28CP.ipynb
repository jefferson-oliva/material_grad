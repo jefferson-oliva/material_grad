{
 "cells": [
  {
   "cell_type": "markdown",
   "id": "d7372088",
   "metadata": {},
   "source": [
    "### 1) Aplique o algoritmo de limiarização do Método de Otsu nas imagens “harewood.jpg”, “nuts.jpg”, “snow.jpg” e “flor.jpg”."
   ]
  },
  {
   "cell_type": "code",
   "execution_count": null,
   "id": "b6e23577",
   "metadata": {},
   "outputs": [],
   "source": []
  },
  {
   "cell_type": "markdown",
   "id": "aaf4a26c-e317-41dc-9856-5c8ffb931c11",
   "metadata": {},
   "source": [
    "### 2) Faça a segmentação de imagem colorida na imagem \"flor.jpg\""
   ]
  },
  {
   "cell_type": "code",
   "execution_count": null,
   "id": "47db7a5e-72c1-4b60-879e-6544a4fed264",
   "metadata": {},
   "outputs": [],
   "source": []
  }
 ],
 "metadata": {
  "kernelspec": {
   "display_name": "Python 3 (ipykernel)",
   "language": "python",
   "name": "python3"
  },
  "language_info": {
   "codemirror_mode": {
    "name": "ipython",
    "version": 3
   },
   "file_extension": ".py",
   "mimetype": "text/x-python",
   "name": "python",
   "nbconvert_exporter": "python",
   "pygments_lexer": "ipython3",
   "version": "3.10.12"
  }
 },
 "nbformat": 4,
 "nbformat_minor": 5
}
