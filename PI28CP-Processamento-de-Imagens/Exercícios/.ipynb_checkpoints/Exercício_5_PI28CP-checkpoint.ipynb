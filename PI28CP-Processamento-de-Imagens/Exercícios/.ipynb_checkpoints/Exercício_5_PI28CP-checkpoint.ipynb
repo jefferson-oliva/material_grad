{
 "cells": [
  {
   "cell_type": "markdown",
   "id": "271da372",
   "metadata": {},
   "source": [
    "## Exercícios"
   ]
  },
  {
   "attachments": {
    "image.png": {
     "image/png": "[encoded data removed]"
    }
   },
   "cell_type": "markdown",
   "id": "2a452022",
   "metadata": {},
   "source": [
    "### 1) Utilize o elemento estruturante abaixo:\n",
    "\n",
    "![image.png](attachment:image.png)\n",
    "\n",
    "As imagens mencionadas abaixo estão disponíveis em https://github.com/jefferson-oliva/material_grad/tree/main/PI28CP-Processamento-de-Imagens/Exerc%C3%ADcios/imagens\n"
   ]
  },
  {
   "cell_type": "markdown",
   "id": "3bafd2ce",
   "metadata": {},
   "source": [
    "a) Aplique erosão e dilatação na imagem img1.png disponível no diretório. "
   ]
  },
  {
   "cell_type": "code",
   "execution_count": null,
   "id": "75451832",
   "metadata": {},
   "outputs": [],
   "source": []
  },
  {
   "cell_type": "markdown",
   "id": "5b7345fa",
   "metadata": {},
   "source": [
    "b) Aplique erosão, dilatação, fechamento na imagem img2.png"
   ]
  },
  {
   "cell_type": "code",
   "execution_count": null,
   "id": "2b8016a1",
   "metadata": {},
   "outputs": [],
   "source": []
  },
  {
   "cell_type": "markdown",
   "id": "ea04222b",
   "metadata": {},
   "source": [
    "c) Aplique erosão e dilatação na imagem img3.png"
   ]
  },
  {
   "cell_type": "code",
   "execution_count": null,
   "id": "cddda879",
   "metadata": {},
   "outputs": [],
   "source": []
  },
  {
   "cell_type": "markdown",
   "id": "ab210113",
   "metadata": {},
   "source": [
    "d) Aplique erosão e dilatação usando outro elemento estruturante nestas mesmas imagens. (Defina o kernel usado)"
   ]
  },
  {
   "cell_type": "code",
   "execution_count": null,
   "id": "4630fb7d",
   "metadata": {},
   "outputs": [],
   "source": []
  },
  {
   "cell_type": "markdown",
   "id": "4a7520e5",
   "metadata": {},
   "source": [
    "### 2) Considere a imagem img4.png\n",
    "\n",
    "a) Aplique o filtro morfológigo de erosão (3x3). Qual é o efeito na imagem?\n"
   ]
  },
  {
   "cell_type": "code",
   "execution_count": null,
   "id": "24a7e80b",
   "metadata": {},
   "outputs": [],
   "source": []
  },
  {
   "cell_type": "markdown",
   "id": "cf242a07",
   "metadata": {},
   "source": [
    "b) Aplique o filtro morfológigo de dilatação (3x3). Qual é o efeito na imagem?"
   ]
  },
  {
   "cell_type": "code",
   "execution_count": null,
   "id": "6f81ddd7",
   "metadata": {},
   "outputs": [],
   "source": []
  },
  {
   "cell_type": "markdown",
   "id": "f44f3c3d",
   "metadata": {},
   "source": [
    "b) Aplique o filtro morfológigo de dilatação (3x3). Qual é o efeito na imagem?"
   ]
  },
  {
   "cell_type": "code",
   "execution_count": null,
   "id": "933fac7a",
   "metadata": {},
   "outputs": [],
   "source": []
  },
  {
   "cell_type": "markdown",
   "id": "4d0c818c",
   "metadata": {},
   "source": [
    "c) Aplique o filtro morfológigo de abertura (3x3). Qual é o efeito na imagem?"
   ]
  },
  {
   "cell_type": "code",
   "execution_count": null,
   "id": "eb0b0705",
   "metadata": {},
   "outputs": [],
   "source": []
  },
  {
   "cell_type": "markdown",
   "id": "f0f32915",
   "metadata": {},
   "source": [
    "d) Aplique o filtro morfológigo de fechamento (3x3). Qual é o efeito na imagem?"
   ]
  },
  {
   "cell_type": "code",
   "execution_count": null,
   "id": "e7742e0a",
   "metadata": {},
   "outputs": [],
   "source": []
  },
  {
   "cell_type": "markdown",
   "id": "d348be3a",
   "metadata": {},
   "source": [
    "### 3) Como podemos obter as bordas dos objetos na imagem img5.png?"
   ]
  },
  {
   "cell_type": "code",
   "execution_count": null,
   "id": "0e30e6ae",
   "metadata": {},
   "outputs": [],
   "source": []
  }
 ],
 "metadata": {
  "kernelspec": {
   "display_name": "Python 3 (ipykernel)",
   "language": "python",
   "name": "python3"
  },
  "language_info": {
   "codemirror_mode": {
    "name": "ipython",
    "version": 3
   },
   "file_extension": ".py",
   "mimetype": "text/x-python",
   "name": "python",
   "nbconvert_exporter": "python",
   "pygments_lexer": "ipython3",
   "version": "3.11.7"
  }
 },
 "nbformat": 4,
 "nbformat_minor": 5
}
