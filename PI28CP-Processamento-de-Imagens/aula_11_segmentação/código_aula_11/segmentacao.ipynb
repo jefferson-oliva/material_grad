{
 "cells": [
  {
   "cell_type": "code",
   "execution_count": null,
   "id": "f616a75c",
   "metadata": {},
   "outputs": [],
   "source": [
    "import cv2\n",
    "import numpy as np\n",
    "import matplotlib.pyplot as plt"
   ]
  },
  {
   "cell_type": "code",
   "execution_count": null,
   "id": "e9f678f7",
   "metadata": {},
   "outputs": [],
   "source": [
    "img1 = cv2.imread('quote2.png')\n",
    "img2 = cv2.imread('praia.jpg')"
   ]
  },
  {
   "cell_type": "markdown",
   "id": "83415cdf",
   "metadata": {},
   "source": [
    "## Limiarização"
   ]
  },
  {
   "cell_type": "code",
   "execution_count": null,
   "id": "1c77e792",
   "metadata": {},
   "outputs": [],
   "source": [
    "# limiar\n",
    "l = 100\n",
    "\n",
    "# Todas as coordenadas serão avaliadas conforme a condicional\n",
    "indL = np.where(img1 > l)\n",
    "\n",
    "# Cria uma imagem com o mesmo tamanho da original\n",
    "img1_thresh = np.zeros(img1.shape)\n",
    "\n",
    "# muda para o valor 1 todos os pixels que possuem valor acima do threshold\n",
    "img1_thresh[indL] = 1 "
   ]
  },
  {
   "cell_type": "code",
   "execution_count": null,
   "id": "ac8acc74",
   "metadata": {},
   "outputs": [],
   "source": [
    "plt.figure(figsize = (12, 12)) \n",
    " \n",
    "plt.subplot(121)\n",
    "plt.imshow(img1, cmap = \"gray\")\n",
    "plt.axis('off')\n",
    "\n",
    "plt.subplot(122)\n",
    "plt.imshow(img1_thresh, cmap = \"gray\")\n",
    "plt.axis('off')"
   ]
  },
  {
   "cell_type": "code",
   "execution_count": null,
   "id": "90faeb0b",
   "metadata": {},
   "outputs": [],
   "source": [
    "img_pb = cv2.cvtColor(img2, cv2.COLOR_BGR2GRAY) \n",
    "plt.imshow(cv2.cvtColor(img_pb, cv2.COLOR_BGR2RGB))"
   ]
  },
  {
   "cell_type": "code",
   "execution_count": null,
   "id": "367a716f",
   "metadata": {},
   "outputs": [],
   "source": [
    "l = 100\n",
    "\n",
    "indL = np.where(img_pb > l)\n",
    "\n",
    "img2_thresh = np.zeros(img_pb.shape)\n",
    "\n",
    "img2_thresh[indL] = 1 \n",
    "\n",
    "plt.figure(figsize = (12, 12)) \n",
    "\n",
    "plt.subplot(121)\n",
    "plt.imshow(img_pb, cmap = \"gray\")\n",
    "plt.axis('off')\n",
    "\n",
    "plt.subplot(122)\n",
    "plt.imshow(img2_thresh, cmap = \"gray\")\n",
    "plt.axis('off')\n"
   ]
  },
  {
   "cell_type": "markdown",
   "id": "ab692467",
   "metadata": {},
   "source": [
    "\n",
    "### Com a biblioteca OpenCV tem vários tipos de threshold"
   ]
  },
  {
   "cell_type": "code",
   "execution_count": null,
   "id": "d8a552f5-9de5-4be5-ae9d-e0ad6782b93e",
   "metadata": {},
   "outputs": [],
   "source": []
  },
  {
   "cell_type": "code",
   "execution_count": null,
   "id": "6a5e947b",
   "metadata": {},
   "outputs": [],
   "source": [
    "ret, thresh1 = cv2.threshold(img_pb, 100, 255, cv2.THRESH_BINARY)\n",
    "ret, thresh2 = cv2.threshold(img_pb, 100, 255, cv2.THRESH_BINARY_INV)\n",
    "ret, thresh3 = cv2.threshold(img_pb, 100, 255, cv2.THRESH_TRUNC)\n",
    "ret, thresh4 = cv2.threshold(img_pb, 100, 255, cv2.THRESH_TOZERO)\n",
    "\n",
    "plt.figure(figsize = (15, 15))\n",
    "\n",
    "plt.subplot(141)\n",
    "plt.imshow(thresh1, cmap = \"gray\")\n",
    "plt.axis('off')\n",
    "\n",
    "plt.subplot(142)\n",
    "plt.imshow(thresh2, cmap = \"gray\")\n",
    "plt.axis('off')\n",
    "\n",
    "plt.subplot(143)\n",
    "plt.imshow(thresh3, cmap = \"gray\")\n",
    "plt.axis('off')\n",
    "\n",
    "plt.subplot(144)\n",
    "plt.imshow(thresh4, cmap = \"gray\")\n",
    "plt.axis('off')"
   ]
  },
  {
   "cell_type": "markdown",
   "id": "c7ad1ad6",
   "metadata": {},
   "source": [
    "# Segmentação por limiarização (Otsu)"
   ]
  },
  {
   "cell_type": "code",
   "execution_count": null,
   "id": "0504bcd3",
   "metadata": {},
   "outputs": [],
   "source": [
    "img = cv2.imread('bird.png',0)\n",
    "\n",
    "# Limiarização global\n",
    "ret1, th1 = cv2.threshold(img, 127, 255, cv2.THRESH_BINARY)\n",
    "\n",
    "# Limiarização de de Otsu\n",
    "ret2, th2 = cv2.threshold(img, 0, 255, cv2.THRESH_OTSU)\n",
    "\n",
    "# Limiarização de de Otsu após a filtragem gaussiana\n",
    "blur = cv2.GaussianBlur(img, (5, 5), 0)\n",
    "ret3, th3 = cv2.threshold(blur, 0, 255, cv2.THRESH_OTSU)\n",
    "\n",
    "\n",
    "images = [img, 0, th1,\n",
    "          img, 0, th2,\n",
    "          blur, 0, th3]\n",
    "\n",
    "titles = ['Original Noisy Image','Histogram','Global Thresholding (v=127)',\n",
    "          'Original Noisy Image','Histogram',\"Otsu's Thresholding\",\n",
    "          'Gaussian filtered Image','Histogram',\"Otsu's Thresholding\"]\n",
    "\n",
    "plt.figure(figsize = (15, 15))\n",
    "\n",
    "for i in range(3):\n",
    "    plt.subplot(3, 3, i * 3 + 1), plt.imshow(images[i * 3], 'gray')\n",
    "    plt.title(titles[i * 3]), plt.xticks([]), plt.yticks([])\n",
    "    \n",
    "    plt.subplot(3, 3, i * 3 + 2), plt.hist(images[i * 3].ravel(), 256)\n",
    "    plt.title(titles[i * 3 + 1]), plt.xticks([]), plt.yticks([])\n",
    "    \n",
    "    plt.subplot(3, 3, i * 3 + 3), plt.imshow(images[i * 3 + 2], 'gray')\n",
    "    plt.title(titles[i * 3 + 2]), plt.xticks([]), plt.yticks([])\n",
    "    \n",
    "plt.show()"
   ]
  },
  {
   "cell_type": "markdown",
   "id": "59122881",
   "metadata": {},
   "source": [
    "# Segmentação de imagens coloridas"
   ]
  },
  {
   "cell_type": "code",
   "execution_count": null,
   "id": "5704dc13",
   "metadata": {},
   "outputs": [],
   "source": [
    "img = cv2.imread('bird.png')\n",
    "blur = cv2.blur(img, (5, 5))\n",
    "blur0 = cv2.medianBlur(blur, 5)\n",
    "blur1 = cv2.GaussianBlur(blur0, (5, 5), 0)\n",
    "blur2 = cv2.bilateralFilter(blur1, 9, 75, 75)\n",
    "hsv = cv2.cvtColor(blur2, cv2.COLOR_BGR2HSV)\n",
    "\n",
    "# estabelecer o limite ou os valores do intervalo para todos os\n",
    "# pixeis que queremos extrair.\n",
    "low_blue = np.array([55, 0, 0])\n",
    "high_blue = np.array([118, 255, 255])\n",
    "\n",
    "#A “máscara” é basicamente nós colocando uma máscara \n",
    "#sobre todos os outros pixels que não estão em nosso\n",
    "#intervalo de pixels descrito.\n",
    "mask = cv2.inRange(hsv, low_blue, high_blue)\n",
    "res = cv2.bitwise_and(img, img, mask = mask)\n",
    "\n",
    "plt.figure(figsize = (15, 15))\n",
    "\n",
    "plt.subplot(131)\n",
    "plt.imshow(cv2.cvtColor(img, cv2.COLOR_BGR2RGB), cmap = \"gray\", vmin = 0, vmax = 255)\n",
    "plt.title(\"imagem original\")\n",
    "plt.axis('off')\n",
    "\n",
    "plt.subplot(132)\n",
    "plt.imshow(mask, cmap = \"gray\", vmin = 0, vmax = 255)\n",
    "plt.title(\"máscara\")\n",
    "plt.axis('off')\n",
    "\n",
    "plt.subplot(133)\n",
    "plt.imshow(cv2.cvtColor(res, cv2.COLOR_BGR2RGB), cmap = \"gray\", vmin = 0, vmax = 255)\n",
    "plt.title(\"imagem segmentada\")\n",
    "plt.axis('off')\n"
   ]
  },
  {
   "cell_type": "code",
   "execution_count": null,
   "id": "9fc54e77",
   "metadata": {},
   "outputs": [],
   "source": [
    "image = cv2.imread('5.bmp')\n",
    "hsv = cv2.cvtColor(image, cv2.COLOR_BGR2HSV)\n",
    "blur = cv2.medianBlur(hsv, 11)\n",
    "\n",
    "lower = np.array([132, 113, 223])\n",
    "upper = np.array([140, 153, 255])\n",
    "\n",
    "mask = cv2.inRange(blur, lower, upper)\n",
    "res = cv2.bitwise_and(image, image, mask = mask)            \n",
    "\n",
    "plt.figure(figsize = (12, 12))\n",
    "\n",
    "plt.subplot(151)\n",
    "plt.imshow(cv2.cvtColor(image, cv2.COLOR_BGR2RGB), cmap = \"gray\", vmin = 0, vmax = 255)\n",
    "plt.title(\"imagem original\")\n",
    "plt.axis('off')\n",
    "\n",
    "plt.subplot(152)\n",
    "plt.imshow(cv2.cvtColor(blur, cv2.COLOR_HSV2RGB), cmap = \"gray\", vmin = 0, vmax = 255)\n",
    "plt.title(\"imagem blur\")\n",
    "plt.axis('off')\n",
    "\n",
    "plt.subplot(153)\n",
    "plt.imshow(mask, cmap = \"gray\", vmin = 0, vmax = 255)\n",
    "plt.title(\"máscara\")\n",
    "plt.axis('off')\n",
    "\n",
    "plt.subplot(154)\n",
    "plt.imshow(hsv, cmap = \"gray\", vmin = 0, vmax = 255)\n",
    "plt.title(\"imagem hsv\")\n",
    "plt.axis('off')\n",
    "\n",
    "plt.subplot(155)\n",
    "plt.imshow(res, cmap = \"gray\", vmin = 0, vmax = 255)\n",
    "plt.title(\"imagem segmentada\")\n",
    "plt.axis('off')\n"
   ]
  },
  {
   "cell_type": "code",
   "execution_count": null,
   "id": "15cfd6e6",
   "metadata": {},
   "outputs": [],
   "source": [
    "image = cv2.imread('calcadagrama.jpg')\n",
    "hsv = cv2.cvtColor(image, cv2.COLOR_BGR2HSV)\n",
    "blur = cv2.medianBlur(hsv, 11)\n",
    "\n",
    "lower = np.array([40, 40, 95])\n",
    "upper = np.array([190, 125, 120])\n",
    "\n",
    "mask = cv2.inRange(blur, lower, upper)\n",
    "res = cv2.bitwise_and(image, image, mask = mask)\n",
    "\n",
    "plt.figure(figsize = (15, 15))\n",
    "\n",
    "plt.subplot(141)\n",
    "plt.imshow(cv2.cvtColor(image, cv2.COLOR_BGR2RGB), cmap = \"gray\", vmin = 0, vmax = 255)\n",
    "plt.title(\"imagem original\")\n",
    "plt.axis('off')\n",
    "\n",
    "plt.subplot(142)\n",
    "plt.imshow(hsv, cmap = \"gray\", vmin = 0, vmax = 255)\n",
    "plt.title(\"imagem hsv\")\n",
    "plt.axis('off')\n",
    "\n",
    "plt.subplot(143)\n",
    "plt.imshow(mask, cmap = \"gray\", vmin = 0, vmax = 255)\n",
    "plt.title(\"máscara\")\n",
    "plt.axis('off')\n",
    "\n",
    "plt.subplot(144)\n",
    "plt.imshow(res, cmap = \"gray\", vmin = 0, vmax = 255)\n",
    "plt.title(\"imagem segmentada\")\n",
    "plt.axis('off')"
   ]
  }
 ],
 "metadata": {
  "kernelspec": {
   "display_name": "Python 3 (ipykernel)",
   "language": "python",
   "name": "python3"
  },
  "language_info": {
   "codemirror_mode": {
    "name": "ipython",
    "version": 3
   },
   "file_extension": ".py",
   "mimetype": "text/x-python",
   "name": "python",
   "nbconvert_exporter": "python",
   "pygments_lexer": "ipython3",
   "version": "3.11.7"
  }
 },
 "nbformat": 4,
 "nbformat_minor": 5
}
