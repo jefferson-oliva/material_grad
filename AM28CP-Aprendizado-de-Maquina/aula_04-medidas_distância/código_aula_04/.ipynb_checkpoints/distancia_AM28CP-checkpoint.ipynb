{
 "cells": [
  {
   "cell_type": "code",
   "execution_count": 1,
   "metadata": {
    "colab": {
     "base_uri": "https://localhost:8080/",
     "height": 54
    },
    "colab_type": "code",
    "executionInfo": {
     "elapsed": 848,
     "status": "ok",
     "timestamp": 1598638975873,
     "user": {
      "displayName": "Dalcimar Casanova",
      "photoUrl": "https://lh3.googleusercontent.com/a-/AOh14GgZzFT0FCo6nTJjXLoCVlWF617XKFK9oco_RLrc-A=s64",
      "userId": "01490701818826847808"
     },
     "user_tz": 180
    },
    "id": "Wgb3ZJ2iQheF",
    "outputId": "c22e5cd3-24f9-446e-cd98-02f31881a4f7"
   },
   "outputs": [],
   "source": [
    "from sklearn import datasets\n",
    "from scipy.spatial import distance\n",
    "import numpy as np"
   ]
  },
  {
   "cell_type": "code",
   "execution_count": 2,
   "metadata": {},
   "outputs": [],
   "source": [
    "x1 = np.array([1, 1, 2, 3, 1])\n",
    "x2 = np.array([1, 3, 1, 1, 2]) "
   ]
  },
  {
   "cell_type": "markdown",
   "metadata": {},
   "source": [
    "#### Distância Euclidiana\n",
    "\n",
    "$d(\\mathbf{a},\\mathbf{b}) = \\sqrt{\\sum\\limits_{i=1}^n (a_i-b_i)^2}$\n"
   ]
  },
  {
   "cell_type": "code",
   "execution_count": 3,
   "metadata": {},
   "outputs": [],
   "source": [
    "euclidianaL = lambda a, b : np.sqrt(np.sum((a - b)**2, axis = 0))"
   ]
  },
  {
   "cell_type": "code",
   "execution_count": 4,
   "metadata": {},
   "outputs": [],
   "source": [
    "def euclidianaF(a, b):\n",
    "    return np.sqrt(np.sum((a - b)**2, axis = 0))"
   ]
  },
  {
   "cell_type": "code",
   "execution_count": 5,
   "metadata": {},
   "outputs": [
    {
     "name": "stdout",
     "output_type": "stream",
     "text": [
      "3.1622776601683795\n",
      "3.1622776601683795\n",
      "3.1622776601683795\n"
     ]
    }
   ],
   "source": [
    "print(euclidianaL(x1, x2))\n",
    "print(euclidianaF(x1, x2))\n",
    "print(distance.euclidean(x1, x2))"
   ]
  },
  {
   "cell_type": "markdown",
   "metadata": {},
   "source": [
    "#### Distância de Manhattan (Cityblock/Geometria do taxi)\n",
    "\n",
    "$d(\\mathbf{a},\\mathbf{b}) = \\sum\\limits_{i=1}^n |a_i-b_i|$"
   ]
  },
  {
   "cell_type": "code",
   "execution_count": 6,
   "metadata": {},
   "outputs": [],
   "source": [
    "manhattanL = lambda a, b : np.sum(np.abs(a - b), axis = 0)"
   ]
  },
  {
   "cell_type": "code",
   "execution_count": 7,
   "metadata": {},
   "outputs": [],
   "source": [
    "def manhattanF(a, b):\n",
    "    return np.sum(np.abs(a - b), axis = 0)"
   ]
  },
  {
   "cell_type": "code",
   "execution_count": 8,
   "metadata": {},
   "outputs": [
    {
     "name": "stdout",
     "output_type": "stream",
     "text": [
      "6\n",
      "6\n",
      "6\n"
     ]
    }
   ],
   "source": [
    "print(manhattanL(x1, x2))\n",
    "print(manhattanF(x1, x2))\n",
    "print(distance.cityblock(x1, x2))"
   ]
  },
  {
   "cell_type": "markdown",
   "metadata": {},
   "source": [
    "#### Distância de Minkowski\n",
    "\n",
    "$d(\\mathbf{a},\\mathbf{b}, \\mathbf{r}) = \\left[\\sum\\limits_{i=1}^n (a_i-b_i)^r\\right]^{\\frac{1}{r}}$"
   ]
  },
  {
   "cell_type": "code",
   "execution_count": 9,
   "metadata": {},
   "outputs": [],
   "source": [
    "minkowskiL = lambda a, b, r = 2 : np.sum(np.abs(a - b)**r, axis = 0)**(1 / r)"
   ]
  },
  {
   "cell_type": "code",
   "execution_count": 10,
   "metadata": {},
   "outputs": [],
   "source": [
    "def minkowskiF(a, b, r = 2):\n",
    "    return np.sum(np.abs(a - b)**r, axis = 0)**(1 / r)"
   ]
  },
  {
   "cell_type": "code",
   "execution_count": 11,
   "metadata": {},
   "outputs": [
    {
     "name": "stdout",
     "output_type": "stream",
     "text": [
      "3.162277660168379\n",
      "3.162277660168379\n",
      "3.1622776601683795\n"
     ]
    }
   ],
   "source": [
    "print(minkowskiL(x1, x2))\n",
    "print(minkowskiF(x1, x2))\n",
    "print(distance.minkowski(x1, x2))"
   ]
  },
  {
   "cell_type": "code",
   "execution_count": 12,
   "metadata": {},
   "outputs": [
    {
     "name": "stdout",
     "output_type": "stream",
     "text": [
      "6.0\n",
      "6.0\n",
      "6.0\n"
     ]
    }
   ],
   "source": [
    "print(minkowskiL(x1, x2, 1))\n",
    "print(minkowskiF(x1, x2, 1))\n",
    "print(distance.minkowski(x1, x2, 1))"
   ]
  },
  {
   "cell_type": "markdown",
   "metadata": {},
   "source": [
    "#### Distância de Mahalanobis\n",
    "\n",
    "$d(p, q) = \\sqrt{(p - q) \\sum^{-1}(p - q)^T}$\n",
    "\n",
    "Onde $\\sum$ é a matriz de covariância:\n",
    "\n",
    "$\\sum_{i,j} = \\frac{1}{n - 1} \\sum\\limits_{k = 1}^n (x_{ki} - \\overline{x_i})(x_{kj} - \\overline{x_j})$"
   ]
  },
  {
   "cell_type": "code",
   "execution_count": 19,
   "metadata": {},
   "outputs": [],
   "source": [
    "mahalanobisL = lambda a, b, I : np.sqrt((a - b).transpose() @ I @ (a - b))"
   ]
  },
  {
   "cell_type": "code",
   "execution_count": 20,
   "metadata": {},
   "outputs": [],
   "source": [
    "def mahalanobisF(a, b, I):\n",
    "    return np.sqrt((a - b).transpose() @ I @ (a - b))"
   ]
  },
  {
   "cell_type": "code",
   "execution_count": 21,
   "metadata": {},
   "outputs": [],
   "source": [
    "iris = datasets.load_iris()\n",
    "X = iris.data"
   ]
  },
  {
   "cell_type": "code",
   "execution_count": 28,
   "metadata": {},
   "outputs": [
    {
     "name": "stdout",
     "output_type": "stream",
     "text": [
      "[[ 0.68569351 -0.042434    1.27431544  0.51627069]\n",
      " [-0.042434    0.18997942 -0.32965638 -0.12163937]\n",
      " [ 1.27431544 -0.32965638  3.11627785  1.2956094 ]\n",
      " [ 0.51627069 -0.12163937  1.2956094   0.58100626]]\n",
      "\n",
      "[[ 10.31469875  -6.71318923  -7.31448253   5.739951  ]\n",
      " [ -6.71318923  11.05841725   6.48058913  -6.17093237]\n",
      " [ -7.31448253   6.48058913  10.03167858 -14.5137665 ]\n",
      " [  5.739951    -6.17093237 -14.5137665   27.69363502]]\n"
     ]
    }
   ],
   "source": [
    "irisC = np.cov(X.T)\n",
    "irisCI = np.linalg.inv(irisC)\n",
    "\n",
    "print(irisC)\n",
    "print()\n",
    "print(irisCI)"
   ]
  },
  {
   "cell_type": "code",
   "execution_count": 23,
   "metadata": {},
   "outputs": [],
   "source": [
    "x1 = X[0,:]\n",
    "x2 = X[1,:]"
   ]
  },
  {
   "cell_type": "code",
   "execution_count": 26,
   "metadata": {},
   "outputs": [
    {
     "name": "stdout",
     "output_type": "stream",
     "text": [
      "1.3544572398966794\n",
      "1.3544572398966794\n",
      "1.3544572398966794\n"
     ]
    }
   ],
   "source": [
    "print(mahalanobisL(x1, x2, irisCI))\n",
    "print(mahalanobisF(x1, x2, irisCI))\n",
    "print(distance.mahalanobis(x1, x2, irisCI))"
   ]
  },
  {
   "cell_type": "code",
   "execution_count": null,
   "metadata": {},
   "outputs": [],
   "source": []
  },
  {
   "cell_type": "code",
   "execution_count": null,
   "metadata": {},
   "outputs": [],
   "source": []
  },
  {
   "cell_type": "code",
   "execution_count": null,
   "metadata": {},
   "outputs": [],
   "source": []
  }
 ],
 "metadata": {
  "colab": {
   "authorship_tag": "ABX9TyP4ErPrCqOhm47kv3tK9ybb",
   "collapsed_sections": [],
   "name": "L05b_seuclidean.ipynb",
   "provenance": [
    {
     "file_id": "1EnZVN6gTidYKpO-ZOjfpg_0ndN-cESRm",
     "timestamp": 1598633973664
    }
   ]
  },
  "kernelspec": {
   "display_name": "Python 3 (ipykernel)",
   "language": "python",
   "name": "python3"
  },
  "language_info": {
   "codemirror_mode": {
    "name": "ipython",
    "version": 3
   },
   "file_extension": ".py",
   "mimetype": "text/x-python",
   "name": "python",
   "nbconvert_exporter": "python",
   "pygments_lexer": "ipython3",
   "version": "3.12.3"
  }
 },
 "nbformat": 4,
 "nbformat_minor": 1
}
