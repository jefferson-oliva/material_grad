{
 "cells": [
  {
   "cell_type": "markdown",
   "id": "ec534ab6",
   "metadata": {},
   "source": [
    "# Exercício 8"
   ]
  },
  {
   "cell_type": "markdown",
   "id": "5076baf9-73f3-4294-b68f-c7037b45c66e",
   "metadata": {},
   "source": [
    "#### 1) Carregue a base de dados \"Toxicity-13F.csv\" em https://archive.ics.uci.edu/dataset/728/toxicity-2\n",
    "\n",
    "- A solução deve usar as bibliotecas pandas, numpy (opcional) e scikit-learn\n",
    "- Caso a tarefa seja implementada no Jupyter Notebook, anexar o arquivo ipynb no Moodle\n",
    "- Caso a tarefa seja imaplementada no Google Colab, compartilhar o link no Moodle (não esquecer de liberar a leitura do arquivo)"
   ]
  },
  {
   "cell_type": "code",
   "execution_count": null,
   "id": "149cb192-dfb2-4211-9378-57036d8387a8",
   "metadata": {},
   "outputs": [],
   "source": []
  },
  {
   "cell_type": "markdown",
   "id": "c2e1815f-6cdf-4a8c-8322-a608de8b7a94",
   "metadata": {},
   "source": [
    "#### 2) Remova o atributo alvo da base de dados e armazene o seu conteúdo em uma variável (e.g. y)"
   ]
  },
  {
   "cell_type": "code",
   "execution_count": null,
   "id": "59edc678-33b1-43e9-9136-d9257e2fdb75",
   "metadata": {},
   "outputs": [],
   "source": []
  },
  {
   "cell_type": "markdown",
   "id": "eacfa0af-5e16-41b1-892a-eb62d880e9bb",
   "metadata": {},
   "source": [
    "#### 3) Faça o devido pré-processamento, caso precisar\n",
    "- limpeza\n",
    "- discretização\n",
    "- redução de dimensionalidade\n",
    "- etc"
   ]
  },
  {
   "cell_type": "code",
   "execution_count": null,
   "id": "cb525af2-a663-4ca2-9d82-6db550fb5b8e",
   "metadata": {},
   "outputs": [],
   "source": []
  },
  {
   "cell_type": "markdown",
   "id": "a940a407",
   "metadata": {},
   "source": [
    "#### 4) Construa modelos ensembles utilizando as seguintes abordagens:\n",
    "\n",
    "- Classificação por votação: escolha 4 métodos de aprendizado para a construção desse tipo de modelo\n",
    "- Bagging: escolha um método de aprendizado diferente dos que foram utilizados para votação\n",
    "- Random Forest ou AdaBoost\n"
   ]
  },
  {
   "cell_type": "code",
   "execution_count": null,
   "id": "7f2b6bb8",
   "metadata": {},
   "outputs": [],
   "source": []
  },
  {
   "cell_type": "code",
   "execution_count": null,
   "id": "baf9b45a",
   "metadata": {},
   "outputs": [],
   "source": []
  },
  {
   "cell_type": "code",
   "execution_count": null,
   "id": "d097f143",
   "metadata": {},
   "outputs": [],
   "source": []
  },
  {
   "cell_type": "markdown",
   "id": "0d31e0e5-9680-44da-89a7-bab1151da8ac",
   "metadata": {},
   "source": [
    "#### 5) Para cada um dos 3 modelos gerados em (4), faça a predição utilizando o conjunto de teste"
   ]
  },
  {
   "cell_type": "code",
   "execution_count": null,
   "id": "521181bd-3c55-46d9-8c7a-c311fa441b5b",
   "metadata": {},
   "outputs": [],
   "source": []
  },
  {
   "cell_type": "code",
   "execution_count": null,
   "id": "63613c1f-322f-4786-a8cf-0ad793c279af",
   "metadata": {},
   "outputs": [],
   "source": []
  },
  {
   "cell_type": "markdown",
   "id": "adfd7500-6c00-41ac-b4f0-bebab51e83a2",
   "metadata": {},
   "source": [
    "#### 6) Plote as matrizes de confusão dos modelos"
   ]
  },
  {
   "cell_type": "code",
   "execution_count": null,
   "id": "01b0a5dd-dec9-4612-a8fc-9b4938ed86a0",
   "metadata": {},
   "outputs": [],
   "source": []
  },
  {
   "cell_type": "code",
   "execution_count": null,
   "id": "9e5949f3-6c78-4e88-a389-5acb99141650",
   "metadata": {},
   "outputs": [],
   "source": []
  },
  {
   "cell_type": "markdown",
   "id": "4f1b2a62",
   "metadata": {},
   "source": [
    "#### 7) Faça a avaliação dos modelos utilizando acurácia"
   ]
  },
  {
   "cell_type": "code",
   "execution_count": null,
   "id": "2846a2dd",
   "metadata": {},
   "outputs": [],
   "source": []
  }
 ],
 "metadata": {
  "kernelspec": {
   "display_name": "Python 3 (ipykernel)",
   "language": "python",
   "name": "python3"
  },
  "language_info": {
   "codemirror_mode": {
    "name": "ipython",
    "version": 3
   },
   "file_extension": ".py",
   "mimetype": "text/x-python",
   "name": "python",
   "nbconvert_exporter": "python",
   "pygments_lexer": "ipython3",
   "version": "3.12.3"
  }
 },
 "nbformat": 4,
 "nbformat_minor": 5
}
