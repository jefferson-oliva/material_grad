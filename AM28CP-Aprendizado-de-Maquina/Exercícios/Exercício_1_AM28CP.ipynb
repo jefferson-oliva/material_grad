{
 "cells": [
  {
   "cell_type": "markdown",
   "id": "ec534ab6",
   "metadata": {},
   "source": [
    "# Exercício 1"
   ]
  },
  {
   "cell_type": "markdown",
   "id": "5076baf9-73f3-4294-b68f-c7037b45c66e",
   "metadata": {},
   "source": [
    "#### 1) Carregue a base de dados https://github.com/jefferson-oliva/databases/blob/main/labor.csv"
   ]
  },
  {
   "cell_type": "code",
   "execution_count": null,
   "id": "149cb192-dfb2-4211-9378-57036d8387a8",
   "metadata": {},
   "outputs": [],
   "source": []
  },
  {
   "cell_type": "markdown",
   "id": "c2e1815f-6cdf-4a8c-8322-a608de8b7a94",
   "metadata": {},
   "source": [
    "#### 2) Remova o atributo alvo da base de dados e armazene o seu conteúdo em uma variável (e.g. y)"
   ]
  },
  {
   "cell_type": "code",
   "execution_count": null,
   "id": "59edc678-33b1-43e9-9136-d9257e2fdb75",
   "metadata": {},
   "outputs": [],
   "source": []
  },
  {
   "cell_type": "markdown",
   "id": "eacfa0af-5e16-41b1-892a-eb62d880e9bb",
   "metadata": {},
   "source": [
    "#### 3) Trate os casos de dados ausentes"
   ]
  },
  {
   "cell_type": "code",
   "execution_count": null,
   "id": "cb525af2-a663-4ca2-9d82-6db550fb5b8e",
   "metadata": {},
   "outputs": [],
   "source": []
  },
  {
   "cell_type": "markdown",
   "id": "b732d128-6dc5-4c99-96f1-ad12224130c5",
   "metadata": {},
   "source": [
    "#### 4) Há colunas irrelevantes? Caso sim, remova-as."
   ]
  },
  {
   "cell_type": "code",
   "execution_count": null,
   "id": "ea672cdd-ff9a-4dc1-b2a1-dbadde811073",
   "metadata": {},
   "outputs": [],
   "source": []
  },
  {
   "cell_type": "markdown",
   "id": "e7d8fcb6-9382-4745-a148-b904d447bebd",
   "metadata": {},
   "source": [
    "#### 5) Transforme os atributos com valores simbólicos para numérico"
   ]
  },
  {
   "cell_type": "code",
   "execution_count": null,
   "id": "d16a65f9-5299-4780-bcda-3d8d45303218",
   "metadata": {},
   "outputs": [],
   "source": []
  },
  {
   "cell_type": "markdown",
   "id": "cc6b08bb-50d8-4e4e-9b3f-3415f5495dfc",
   "metadata": {},
   "source": [
    "#### 6) Faça a análise exploratória dos dados\n",
    "\n",
    "a) - Imprima dos dados estatísticos dos atributos de forma tabulada (média, desvio-padrão, mínimo, máximo, assimetria, curtose).\n",
    "\n",
    "b) - Plote um histograma para cada atributo de forma que mostre a distribuição de dados por classe. Em seguida, descreva as características da distribução de cada atributo.\n",
    "\n",
    "c) - Plote a matriz de correlação dos atributos em um mapa de calor.\n",
    "\n",
    "d) - Plote o gráfico de dispersão para cada par de atributos."
   ]
  },
  {
   "cell_type": "code",
   "execution_count": null,
   "id": "74b04faf-21c2-4271-bc71-3e0ea8de22cf",
   "metadata": {},
   "outputs": [],
   "source": []
  },
  {
   "cell_type": "markdown",
   "id": "bd099a79-882a-499e-8238-d7584376994a",
   "metadata": {},
   "source": [
    "#### 7) Considerando a matriz de correlação do exercício anterior, remova os atributos que apresentem correlação positiva maior que um limiar (de sua escolha)."
   ]
  },
  {
   "cell_type": "code",
   "execution_count": null,
   "id": "5a8e7e3f-8641-446f-b531-1dcd19c02f2a",
   "metadata": {},
   "outputs": [],
   "source": []
  },
  {
   "cell_type": "markdown",
   "id": "cb9cf09c-aab6-441c-b684-41b1dd24aee9",
   "metadata": {},
   "source": [
    "#### 8) Faça a normalização dos atributos (min-max ou normalização z)"
   ]
  },
  {
   "cell_type": "code",
   "execution_count": null,
   "id": "86a0638b-9707-432b-8d31-641992289478",
   "metadata": {},
   "outputs": [],
   "source": []
  },
  {
   "cell_type": "markdown",
   "id": "326172e9-f267-48d4-adfc-0fb3a1458541",
   "metadata": {},
   "source": [
    "#### 9) Divida o conjunto de dados em subconjuntos de treino e de teste. Use o conjunto de treino para treinar um modelo, utizando um algoritmo da sua escolha. Em seguida, use o conjunto de teste para avaliar o modelo."
   ]
  },
  {
   "cell_type": "code",
   "execution_count": null,
   "id": "b8a8c79c-5a66-44f3-8ef6-965a1cdcf8e4",
   "metadata": {},
   "outputs": [],
   "source": []
  },
  {
   "cell_type": "code",
   "execution_count": null,
   "id": "63613c1f-322f-4786-a8cf-0ad793c279af",
   "metadata": {},
   "outputs": [],
   "source": []
  },
  {
   "cell_type": "code",
   "execution_count": null,
   "id": "9d276da1-abf7-4385-a2a8-0fdba5975b42",
   "metadata": {},
   "outputs": [],
   "source": []
  }
 ],
 "metadata": {
  "kernelspec": {
   "display_name": "Python 3 (ipykernel)",
   "language": "python",
   "name": "python3"
  },
  "language_info": {
   "codemirror_mode": {
    "name": "ipython",
    "version": 3
   },
   "file_extension": ".py",
   "mimetype": "text/x-python",
   "name": "python",
   "nbconvert_exporter": "python",
   "pygments_lexer": "ipython3",
   "version": "3.11.7"
  }
 },
 "nbformat": 4,
 "nbformat_minor": 5
}
