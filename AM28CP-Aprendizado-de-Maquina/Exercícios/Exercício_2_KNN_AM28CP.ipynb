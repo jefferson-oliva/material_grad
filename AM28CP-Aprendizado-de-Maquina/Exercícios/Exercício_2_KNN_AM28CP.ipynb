{
 "cells": [
  {
   "cell_type": "markdown",
   "id": "ec534ab6",
   "metadata": {},
   "source": [
    "# Exercício 2"
   ]
  },
  {
   "cell_type": "markdown",
   "id": "5076baf9-73f3-4294-b68f-c7037b45c66e",
   "metadata": {},
   "source": [
    "#### 1) Carregue a base de dados https://github.com/jefferson-oliva/databases/blob/main/breast_cancer.csv\n",
    "\n",
    "- Essa base de dados também está disponível na biblioteca sklearn\n",
    "- A solução deve usar as bibliotecas pandas, numpy (opcional) e scikit-learn\n",
    "- Caso a tarefa seja implementada no Jupyter Notebook, anexar o arquivo ipynb no Moodle\n",
    "- Caso a tarefa seja imaplementada no Google Colab, compartilhar o link no Moodle (não esquecer de liberar a leitura do arquivo)"
   ]
  },
  {
   "cell_type": "code",
   "execution_count": null,
   "id": "149cb192-dfb2-4211-9378-57036d8387a8",
   "metadata": {},
   "outputs": [],
   "source": []
  },
  {
   "cell_type": "markdown",
   "id": "c2e1815f-6cdf-4a8c-8322-a608de8b7a94",
   "metadata": {},
   "source": [
    "#### 2) Remova o atributo alvo da base de dados e armazene o seu conteúdo em uma variável (e.g. y)"
   ]
  },
  {
   "cell_type": "code",
   "execution_count": null,
   "id": "59edc678-33b1-43e9-9136-d9257e2fdb75",
   "metadata": {},
   "outputs": [],
   "source": []
  },
  {
   "cell_type": "markdown",
   "id": "eacfa0af-5e16-41b1-892a-eb62d880e9bb",
   "metadata": {},
   "source": [
    "#### 3) Faça o devido pré-processamento, caso precisar\n",
    "- limpeza\n",
    "- normalização"
   ]
  },
  {
   "cell_type": "code",
   "execution_count": null,
   "id": "cb525af2-a663-4ca2-9d82-6db550fb5b8e",
   "metadata": {},
   "outputs": [],
   "source": []
  },
  {
   "cell_type": "markdown",
   "id": "b732d128-6dc5-4c99-96f1-ad12224130c5",
   "metadata": {},
   "source": [
    "#### 4) Divida o conjunto de dados em subconjuntos de treino e de teste."
   ]
  },
  {
   "cell_type": "code",
   "execution_count": null,
   "id": "ea672cdd-ff9a-4dc1-b2a1-dbadde811073",
   "metadata": {},
   "outputs": [],
   "source": []
  },
  {
   "cell_type": "code",
   "execution_count": null,
   "id": "5a8e7e3f-8641-446f-b531-1dcd19c02f2a",
   "metadata": {},
   "outputs": [],
   "source": []
  },
  {
   "cell_type": "markdown",
   "id": "d927e57c-072c-40c2-b1fe-7245a0ecc589",
   "metadata": {},
   "source": [
    "#### 5) Faça a classificação utilizando modelos knn considerando todas as combinações possíveis de valores para os hiperarâmetros abaixo\n",
    "\n",
    "- k = {1, 3, 5, 7, 9}\n",
    "- distância = {Euclidiana, cityblock}"
   ]
  },
  {
   "cell_type": "code",
   "execution_count": null,
   "id": "b8a8c79c-5a66-44f3-8ef6-965a1cdcf8e4",
   "metadata": {},
   "outputs": [],
   "source": []
  },
  {
   "cell_type": "code",
   "execution_count": null,
   "id": "63613c1f-322f-4786-a8cf-0ad793c279af",
   "metadata": {},
   "outputs": [],
   "source": []
  },
  {
   "cell_type": "markdown",
   "id": "adfd7500-6c00-41ac-b4f0-bebab51e83a2",
   "metadata": {},
   "source": [
    "#### Faça a avaliação dos modelos utilizando acurácia"
   ]
  },
  {
   "cell_type": "code",
   "execution_count": null,
   "id": "01b0a5dd-dec9-4612-a8fc-9b4938ed86a0",
   "metadata": {},
   "outputs": [],
   "source": []
  },
  {
   "cell_type": "code",
   "execution_count": null,
   "id": "9e5949f3-6c78-4e88-a389-5acb99141650",
   "metadata": {},
   "outputs": [],
   "source": []
  }
 ],
 "metadata": {
  "kernelspec": {
   "display_name": "Python 3 (ipykernel)",
   "language": "python",
   "name": "python3"
  },
  "language_info": {
   "codemirror_mode": {
    "name": "ipython",
    "version": 3
   },
   "file_extension": ".py",
   "mimetype": "text/x-python",
   "name": "python",
   "nbconvert_exporter": "python",
   "pygments_lexer": "ipython3",
   "version": "3.11.7"
  }
 },
 "nbformat": 4,
 "nbformat_minor": 5
}
