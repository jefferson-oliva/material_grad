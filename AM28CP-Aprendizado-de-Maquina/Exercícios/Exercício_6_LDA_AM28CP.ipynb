{
 "cells": [
  {
   "cell_type": "markdown",
   "id": "ec534ab6",
   "metadata": {},
   "source": [
    "# Exercício 6"
   ]
  },
  {
   "cell_type": "markdown",
   "id": "5076baf9-73f3-4294-b68f-c7037b45c66e",
   "metadata": {},
   "source": [
    "#### 1) Carregue a base de dados https://github.com/jefferson-oliva/databases/blob/main/breast_cancer.csv\n",
    "\n",
    "- Essa base de dados também está disponível na biblioteca sklearn\n",
    "- A solução deve usar as bibliotecas pandas, numpy (opcional) e scikit-learn\n",
    "- Caso a tarefa seja implementada no Jupyter Notebook, anexar o arquivo ipynb no Moodle\n",
    "- Caso a tarefa seja imaplementada no Google Colab, compartilhar o link no Moodle (não esquecer de liberar a leitura do arquivo)"
   ]
  },
  {
   "cell_type": "code",
   "execution_count": null,
   "id": "149cb192-dfb2-4211-9378-57036d8387a8",
   "metadata": {},
   "outputs": [],
   "source": []
  },
  {
   "cell_type": "markdown",
   "id": "c2e1815f-6cdf-4a8c-8322-a608de8b7a94",
   "metadata": {},
   "source": [
    "#### 2) Remova o atributo alvo da base de dados e armazene o seu conteúdo em uma variável (e.g. y)"
   ]
  },
  {
   "cell_type": "code",
   "execution_count": null,
   "id": "59edc678-33b1-43e9-9136-d9257e2fdb75",
   "metadata": {},
   "outputs": [],
   "source": []
  },
  {
   "cell_type": "markdown",
   "id": "eacfa0af-5e16-41b1-892a-eb62d880e9bb",
   "metadata": {},
   "source": [
    "#### 3) Faça o devido pré-processamento, caso precisar\n",
    "- limpeza\n",
    "- discretização\n",
    "- etc"
   ]
  },
  {
   "cell_type": "code",
   "execution_count": null,
   "id": "cb525af2-a663-4ca2-9d82-6db550fb5b8e",
   "metadata": {},
   "outputs": [],
   "source": []
  },
  {
   "cell_type": "markdown",
   "id": "a940a407",
   "metadata": {},
   "source": [
    "#### 4) Construa variantes da base de dados utilizando redução de dimensionalidade por meio da análise discrimante linear\n",
    "\n",
    "Para isso considere as seguintes quantias de componentes:\n",
    "\n",
    "- 20\n",
    "\n",
    "- 15\n",
    "\n",
    "- 10"
   ]
  },
  {
   "cell_type": "code",
   "execution_count": null,
   "id": "7f2b6bb8",
   "metadata": {},
   "outputs": [],
   "source": []
  },
  {
   "cell_type": "markdown",
   "id": "b732d128-6dc5-4c99-96f1-ad12224130c5",
   "metadata": {},
   "source": [
    "#### 5) Divida os 3 conjuntos de dados, gerados na tarefa (4), em subconjuntos de treino e de teste."
   ]
  },
  {
   "cell_type": "code",
   "execution_count": null,
   "id": "ea672cdd-ff9a-4dc1-b2a1-dbadde811073",
   "metadata": {},
   "outputs": [],
   "source": []
  },
  {
   "cell_type": "code",
   "execution_count": null,
   "id": "5a8e7e3f-8641-446f-b531-1dcd19c02f2a",
   "metadata": {},
   "outputs": [],
   "source": []
  },
  {
   "cell_type": "markdown",
   "id": "d927e57c-072c-40c2-b1fe-7245a0ecc589",
   "metadata": {},
   "source": [
    "#### 6) Escolha  um algoritmo de aprendizado de máquina de sua preferência e treine um modelo para cada um dos 3 conjuntos de dados. Em seguida, escreve uma comentário justificando a sua escolha"
   ]
  },
  {
   "cell_type": "code",
   "execution_count": null,
   "id": "b8a8c79c-5a66-44f3-8ef6-965a1cdcf8e4",
   "metadata": {},
   "outputs": [],
   "source": []
  },
  {
   "cell_type": "code",
   "execution_count": null,
   "id": "8ea98a64-d748-478e-86e3-538e1cda68df",
   "metadata": {},
   "outputs": [],
   "source": []
  },
  {
   "cell_type": "markdown",
   "id": "0d31e0e5-9680-44da-89a7-bab1151da8ac",
   "metadata": {},
   "source": [
    "#### 7) Para cada um dos 3 modelos gerados em (6), faça a predição utilizando o conjunto de teste"
   ]
  },
  {
   "cell_type": "code",
   "execution_count": null,
   "id": "521181bd-3c55-46d9-8c7a-c311fa441b5b",
   "metadata": {},
   "outputs": [],
   "source": []
  },
  {
   "cell_type": "code",
   "execution_count": null,
   "id": "63613c1f-322f-4786-a8cf-0ad793c279af",
   "metadata": {},
   "outputs": [],
   "source": []
  },
  {
   "cell_type": "markdown",
   "id": "adfd7500-6c00-41ac-b4f0-bebab51e83a2",
   "metadata": {},
   "source": [
    "#### 8) Faça a avaliação dos modelos utilizando acurácia"
   ]
  },
  {
   "cell_type": "code",
   "execution_count": null,
   "id": "01b0a5dd-dec9-4612-a8fc-9b4938ed86a0",
   "metadata": {},
   "outputs": [],
   "source": []
  },
  {
   "cell_type": "code",
   "execution_count": null,
   "id": "9e5949f3-6c78-4e88-a389-5acb99141650",
   "metadata": {},
   "outputs": [],
   "source": []
  },
  {
   "cell_type": "markdown",
   "id": "2660c606",
   "metadata": {},
   "source": [
    "#### 9) Utilize a base de dados \"original\" pré-processada em (3) e faça as seguintes tarefas:\n",
    "- Dividir a base de dados conjuntos de treino e de teste\n",
    "\n",
    "- Treine um modelo para classificação utilizando análise discriminante linear\n",
    "\n",
    "- Faça a avaliação do modelo gerado utilizando acurácia"
   ]
  },
  {
   "cell_type": "code",
   "execution_count": null,
   "id": "e7dd1e9c",
   "metadata": {},
   "outputs": [],
   "source": []
  },
  {
   "cell_type": "code",
   "execution_count": null,
   "id": "26dad343",
   "metadata": {},
   "outputs": [],
   "source": []
  },
  {
   "cell_type": "code",
   "execution_count": null,
   "id": "1d61f6be",
   "metadata": {},
   "outputs": [],
   "source": []
  }
 ],
 "metadata": {
  "kernelspec": {
   "display_name": "Python 3 (ipykernel)",
   "language": "python",
   "name": "python3"
  },
  "language_info": {
   "codemirror_mode": {
    "name": "ipython",
    "version": 3
   },
   "file_extension": ".py",
   "mimetype": "text/x-python",
   "name": "python",
   "nbconvert_exporter": "python",
   "pygments_lexer": "ipython3",
   "version": "3.12.3"
  }
 },
 "nbformat": 4,
 "nbformat_minor": 5
}
